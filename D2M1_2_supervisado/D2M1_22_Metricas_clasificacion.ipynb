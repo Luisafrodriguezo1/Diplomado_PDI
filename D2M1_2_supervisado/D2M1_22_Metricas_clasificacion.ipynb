{
 "cells": [
  {
   "cell_type": "markdown",
   "id": "ff9f5e01",
   "metadata": {},
   "source": [
    "# Métricas de clasificación."
   ]
  },
  {
   "cell_type": "markdown",
   "id": "1c05e433",
   "metadata": {},
   "source": [
    "## Modelo de clasificación\n",
    "\n",
    "Los modelo de clasificación son algoritmos de aprendizaje supervisado que tiene como objetivo asignar una etiqueta o clase a cada observación en función de sus características o atributos. Es decir, el modelo aprende a identificar patrones en los datos para poder tomar decisiones automáticas sobre nuevas instancias.\n",
    "\n",
    "Durante la fase de entrenamiento, el modelo recibe un conjunto de datos donde cada observación tiene asociadas ciertas variables o atributos (también llamadas características) y una clase conocida. A partir de estos ejemplos, el modelo aprende las relaciones o patrones que permiten distinguir unas clases de otras.\n",
    "\n",
    "Una vez entrenado, el modelo entra en la fase de predicción. En esta etapa, se le entregan nuevas observaciones sin etiqueta, y el modelo es capaz de clasificarlas automáticamente en una de las clases aprendidas previamente, basándose en los patrones que identificó durante el entrenamiento.\n",
    "\n",
    "**Tipos de modelos de clasificación**\n",
    "\n",
    "\n",
    "\n",
    "| Tipo de modelo   | Descripción                                                                 | Ejemplo aplicado                                                 | Clases posibles                                        |\n",
    "|------------------|------------------------------------------------------------------------------|------------------------------------------------------------------|--------------------------------------------------------|\n",
    "| Binaria          | Solo dos clases posibles: sí/no, cambio/no cambio                           | ¿El predio cambió? ¿Debe ser actualizado?                        | 0: No cambio, 1: Cambio                                 |\n",
    "| Multiclase       | Más de dos clases mutuamente excluyentes                                    | ¿Uso del predio? (Residencial, Comercial, Industria)   | 0: Residencial, 1: Comercial, 2: Industrial |\n",
    "| Multiclase       | Clasificación de múltiples tipos de superficie o coberturas                 | ¿Qué tipo de cobertura ?   | 0: Agricola, 1: Agua, 3: artificial, 4: zonas humedas                         |\n",
    "\n",
    "\n"
   ]
  },
  {
   "cell_type": "markdown",
   "id": "059a5323",
   "metadata": {},
   "source": [
    "**Pregunta guía para discusión:**\n",
    "\n",
    "* ¿Qué significa que un modelo sea “bueno”?\n",
    "\n",
    "* Un modelo detecta el 99.9% de los predios que cambiaron. ¿Eso lo hace confiable para planear la actualización catastral?"
   ]
  },
  {
   "cell_type": "markdown",
   "id": "0585f2cd",
   "metadata": {},
   "source": [
    "\n",
    "\n",
    "```{admonition} Recursos\n",
    ":class: nota\n",
    "  Capa vectorial: \n",
    "\n",
    "  -20241114_GIGANTE_building_procesado2_label.geojson\n",
    "  -20241214_AIPE_building_procesado2_label.geojson  \n",
    "  \n",
    "  [<span>&#x1F4E5;</span> 1749557367_Recursos.zip](Recursos/1749557367_Recursos.zip)\n",
    "\n",
    "```"
   ]
  },
  {
   "cell_type": "markdown",
   "id": "e3302a26",
   "metadata": {},
   "source": [
    "## Matriz de confusión\n",
    "\n",
    "Una matriz de confusión es una herramienta que permite evaluar el desempeño de un modelo de clasificación. Compara las clases reales con las clases predichas, y organiza los resultados en una tabla que permite identificar aciertos y errores del modelo.\n",
    "\n",
    "En problemas de clasificación binaria, la matriz tiene la siguiente estructura:\n",
    "\n",
    "\n",
    "\n",
    "\n",
    "|                          | Predicción: Positiva (1) | Predicción: Negativa (0) |\n",
    "|--------------------------|--------------------------|--------------------------|\n",
    "| Real: Positiva (1)       | Verdadero Positivo (TP)  | Falso Negativo (FN)      |\n",
    "| Real: Negativa (0)       | Falso Positivo (FP)      | Verdadero Negativo (TN)  |\n",
    "\n",
    "\n",
    "\n",
    "\n",
    "\n",
    "- **Verdadero Positivo (TP)**: El modelo predice una clase positiva y la observación realmente pertenece a esa clase.\n",
    "\n",
    "- **Falso Negativo (FN)**: El modelo predice una clase negativa, pero la observación pertenece en realidad a la clase positiva.\n",
    "\n",
    "- **Falso Positivo (FP)**: El modelo predice una clase positiva, pero la observación pertenece a la clase negativa.\n",
    "\n",
    "- **Verdadero Negativo (TN)**: El modelo predice una clase negativa y la observación realmente pertenece a esa clase.\n"
   ]
  },
  {
   "cell_type": "markdown",
   "id": "f5bd4d95",
   "metadata": {},
   "source": [
    "### Ejemplo binario: “Cambio” vs “No cambio” en predios\n",
    "\n",
    "Se dispone de un conjunto de 10 observaciones de predios. Las clases verdaderas y las predicciones del modelo son:"
   ]
  },
  {
   "cell_type": "code",
   "execution_count": 1,
   "id": "130f5121",
   "metadata": {},
   "outputs": [
    {
     "data": {
      "image/png": "[encoded data removed]",
      "text/plain": [
       "<Figure size 640x480 with 2 Axes>"
      ]
     },
     "metadata": {},
     "output_type": "display_data"
    }
   ],
   "source": [
    "from sklearn.metrics import confusion_matrix, ConfusionMatrixDisplay\n",
    "import matplotlib.pyplot as plt\n",
    "\n",
    "# Clases reales (1 = cambio, 0 = no cambio)\n",
    "y_true = [1, 0, 1, 1, 0, 0, 1, 0, 0, 0]\n",
    "\n",
    "# Clases predichas por el modelo\n",
    "y_pred = [1, 0, 1, 0, 0, 1, 1, 0, 0, 0]\n",
    "\n",
    "# Generar matriz de confusión\n",
    "cm = confusion_matrix(y_true, y_pred, labels=[1, 0])\n",
    "\n",
    "# Mostrar la matriz\n",
    "disp = ConfusionMatrixDisplay(confusion_matrix=cm, display_labels=[\"Cambio\", \"No cambio\"])\n",
    "disp.plot(cmap=\"Blues\")\n",
    "plt.title(\"Matriz de Confusión - Predios\")\n",
    "plt.show()"
   ]
  },
  {
   "cell_type": "markdown",
   "id": "8793a8d3",
   "metadata": {},
   "source": [
    "\n",
    "\n",
    "- **TP (True Positive)**: El modelo predijo “cambio” y efectivamente hubo cambio. Se identificaron correctamente 3 de los 4 predios que sí cambiaron.\n",
    "\n",
    "- **FN (False Negative)**: El modelo predijo “no cambio”, pero sí había cambio. Se equivocó en 1 predio que realmente cambió y no lo detectó.\n",
    "\n",
    "- **FP (False Positive)**: El modelo predijo “cambio”, pero en realidad no lo hubo. Clasificó incorrectamente 1 predio sin cambio como si hubiera cambiado.\n",
    "\n",
    "- **TN (True Negative)**: El modelo predijo correctamente que no hubo cambio. Clasificó correctamente 5 predios sin cambio.\n"
   ]
  },
  {
   "cell_type": "markdown",
   "id": "b9c6e8c0",
   "metadata": {},
   "source": [
    "### Ejemplo  multiclase: Uso del suelo\n",
    "\n",
    "Supongamos que un modelo clasifica predios urbanos en tres clases:\n",
    "\n",
    "- Clase 0: Residencial  \n",
    "- Clase 1: Comercial  \n",
    "- Clase 2: Industrial"
   ]
  },
  {
   "cell_type": "code",
   "execution_count": 6,
   "id": "e1280bba",
   "metadata": {},
   "outputs": [
    {
     "data": {
      "image/png": "[encoded data removed]",
      "text/plain": [
       "<Figure size 700x500 with 1 Axes>"
      ]
     },
     "metadata": {},
     "output_type": "display_data"
    }
   ],
   "source": [
    "import pandas as pd\n",
    "import seaborn as sns\n",
    "\n",
    "# Crear la matriz de confusión como DataFrame\n",
    "data = [\n",
    "    [45, 5, 2],\n",
    "    [4, 40, 6],\n",
    "    [1, 3, 36]\n",
    "]\n",
    "\n",
    "labels = [\"Residencial(0)\", \"Comercial(1)\", \"Industrial(2)\"]\n",
    "\n",
    "conf_matrix_df = pd.DataFrame(data, index=[f\"Real: {label}\" for label in labels],\n",
    "                                    columns=[f\"Predicho: {label}\" for label in labels])\n",
    "\n",
    "\n",
    "\n",
    "# También mostrar visualización\n",
    "plt.figure(figsize=(7, 5))\n",
    "sns.heatmap(conf_matrix_df, annot=True, fmt=\"d\", cmap=\"Blues\", cbar=False)\n",
    "plt.title(\"Matriz de Confusión - Multiclase (Uso del suelo)\")\n",
    "plt.xlabel(\"Predicción del modelo\")\n",
    "plt.ylabel(\"Clase real\")\n",
    "plt.xticks(rotation=45)\n",
    "plt.yticks(rotation=45)\n",
    "plt.tight_layout()\n",
    "plt.show()"
   ]
  },
  {
   "cell_type": "markdown",
   "id": "09ca461d",
   "metadata": {},
   "source": [
    "\n",
    "\n",
    "- **Clase real: Comercial (Clase 1)**  \n",
    "  - *TP (Verdadero Positivo)*: 40 predios comerciales fueron correctamente clasificados.  \n",
    "  - *FN (Falsos Negativos)*: 10 comerciales fueron mal clasificados:  \n",
    "    - 4 como residencial  \n",
    "    - 6 como industrial  \n",
    "  - *FP (Falsos Positivos para Comercial)*: 5 residenciales + 3 industriales fueron etiquetados incorrectamente como comerciales."
   ]
  },
  {
   "cell_type": "markdown",
   "id": "d41404a6",
   "metadata": {},
   "source": [
    "```{admonition} Nota TN en multiclase\n",
    ":class: tip\n",
    "En problemas de clasificación multiclase, el valor de **True Negatives (TN)** para una clase específica no aparece directamente en la matriz de confusión como ocurre en la clasificación binaria.\n",
    "\n",
    "Sin embargo, se puede calcular utilizando la siguiente fórmula:\n",
    "\n",
    "**Fórmula general para una clase específica (por ejemplo, clase 1):**\n",
    "\n",
    "\n",
    "$$TN = N_{\\text{total}} - TP - FP - FN$$\n",
    "\n",
    "$$TN=135−40−8−10=77$$\n",
    "\n",
    "Este valor representa todos los ejemplos que *no pertenecen a la clase evaluada y fueron correctamente clasificados como algo diferente*, es decir, aciertos \"fuera de clase\".\n",
    "```"
   ]
  },
  {
   "cell_type": "markdown",
   "id": "1044abd8",
   "metadata": {},
   "source": [
    "```{admonition} Actividad: Interpretación de la clase *Residencial (0)*\n",
    ":class: important\n",
    "\n",
    "Con base en la matriz de confusión, escribe los valores de:\n",
    "\n",
    "   - **TP** =  \n",
    "   - **FN** =  \n",
    "   - **FP** =  \n",
    "\n",
    "```\n"
   ]
  },
  {
   "cell_type": "markdown",
   "id": "65f38c47",
   "metadata": {},
   "source": [
    "##  Exactitud, Precisión, Recall, F1-score y Especificidad\n",
    "\n",
    "### Exactitud (Accuracy)\n",
    "\n",
    " Proporción de predicciones correctas sobre el total de predicciones.\n",
    "\n",
    "\n",
    "$$\\text{Accuracy} = \\frac{TP + TN}{TP + TN + FP + FN}$$\n",
    "\n",
    "- Puede ser *engañosa si hay clases desbalanceadas*. Por ejemplo, si el 90 % de los predios no cambian, un modelo que siempre diga “no cambio” tendrá 90 % de accuracypero no detecta ningún cambio real.\n",
    "\n",
    "---\n",
    "\n",
    "###  Precisión (Precision)\n",
    "\n",
    "Proporción de verdaderos positivos sobre el total de predicciones positivas realizadas por el modelo.\n",
    "\n",
    "\n",
    "$$\\text{Precision} = \\frac{TP}{TP + FP}$$\n",
    "\n",
    "- Evalúa la pureza de la clase positiva predicha. Si el modelo predice 10 cambios y solo 7 son verdaderos, la precisión es 70 %. \n",
    "- Es relevante cuando los falsos positivos tienen alto costo operativo o semántico.\n",
    "\n",
    "---\n",
    "\n",
    "### Recall o Sensibilidad (Recall / Sensitivity)\n",
    "\n",
    "Proporción de verdaderos positivos sobre el total de positivos reales en el conjunto de datos.\n",
    "\n",
    "\n",
    "$$\\text{Recall} = \\frac{TP}{TP + FN}$$\n",
    "\n",
    "\n",
    "- Evalúa la capacidad del modelo para detectar todos los elementos de la clase positiva.  \n",
    "- Es crítico cuando los falsos negativos deben minimizarse (por ejemplo, en diagnóstico o monitoreo de cambio territorial).\n",
    "\n",
    "---\n",
    "\n",
    "### F1-score\n",
    "\n",
    "Media armónica entre precisión y recall. Penaliza los modelos que tienen un alto valor en una métrica pero bajo en la otra.\n",
    "\n",
    "\n",
    "$$F1 = \\frac{2 \\cdot \\text{Precision} \\cdot \\text{Recall}}{\\text{Precision} + \\text{Recall}}$$\n",
    "\n",
    "\n",
    "- Útil en problemas con desbalance de clases y cuando se requiere un compromiso entre precisión y sensibilidad.\n",
    "  \n",
    "---\n",
    "\n",
    "### Especificidad (Specificity / True Negative Rate)\n",
    "\n",
    "Proporción de verdaderos negativos sobre el total de observaciones que pertenecen a la clase negativa.\n",
    "\n",
    "\n",
    "$$\\text{Specificity} = \\frac{TN}{TN + FP}$$\n",
    "\n",
    "\n",
    "- Complementa al recall, evaluando qué tan bien el modelo identifica correctamente las instancias negativas.  \n",
    "- Es fundamental cuando los falsos positivos deben ser controlados (por ejemplo, evitar alertas innecesarias o errores de etiquetado)\n",
    "\n",
    "---\n",
    "\n",
    "### Comparación \n",
    "\n",
    "| Métrica       | ¿Qué mide?                                         | Útil cuando                         |\n",
    "|---------------|-----------------------------------------------------|---------------------------------------------|\n",
    "| Accuracy      | Proporción total de aciertos                        | Las clases están balanceadas                |\n",
    "| Precision     | Aciertos entre los predichos como positivos         | Quieres evitar falsos positivos             |\n",
    "| Recall        | Aciertos entre los positivos reales                 | Quieres evitar falsos negativos             |\n",
    "| F1-score      | Equilibrio entre precisión y recall                 | Necesitas compensar ambos                   |\n",
    "| Specificity   | Aciertos entre los negativos reales                 | Quieres evitar falsos positivos             |\n",
    "\n",
    "\n",
    "\n"
   ]
  },
  {
   "cell_type": "markdown",
   "id": "4616b2c9",
   "metadata": {},
   "source": [
    "\n",
    "### Ejemplo binario: “Cambio” vs “No cambio” en predios\n",
    "\n",
    "Se modela un escenario con 100 predios urbanos, donde el objetivo es predecir si cada predio ha experimentado un cambio físico. De los 100 predios:\n",
    "\n",
    "- 90 predios no han cambiado (clase 0)\n",
    "\n",
    "- 10 predios sí han cambiado (clase 1)\n",
    "\n",
    "Este caso representa una situación desbalanceada, común en contextos reales como actualización catastral, donde los eventos de cambio son relativamente raros."
   ]
  },
  {
   "cell_type": "code",
   "execution_count": 21,
   "id": "829db7cb",
   "metadata": {},
   "outputs": [
    {
     "name": "stdout",
     "output_type": "stream",
     "text": [
      "              precision    recall  f1-score   support\n",
      "\n",
      "   No Cambio       0.92      0.94      0.93        90\n",
      "      Cambio       0.38      0.30      0.33        10\n",
      "\n",
      "    accuracy                           0.88       100\n",
      "   macro avg       0.65      0.62      0.63       100\n",
      "weighted avg       0.87      0.88      0.87       100\n",
      "\n"
     ]
    }
   ],
   "source": [
    "from sklearn.metrics import classification_report\n",
    "\n",
    "# Caso desbalanceado: pocos cambios reales\n",
    "y_true = [0]*90 + [1]*10  # 90 no cambio, 10 cambio\n",
    "y_pred = [0]*85 + [1]*5+ [0]*7 + [1]*3  # 85 TN, 5 FP, 5 FN, 5 TP\n",
    "\n",
    "\n",
    "\n",
    "print(classification_report(y_true, y_pred, target_names=[\"No Cambio\", \"Cambio\"]))\n"
   ]
  },
  {
   "cell_type": "markdown",
   "id": "fdd12657",
   "metadata": {},
   "source": [
    "Aunque el modelo presenta una exactitud global del 88 %, esto se debe principalmente a su buen desempeño sobre la clase dominante (\"No Cambio\"). Sin embargo, su rendimiento sobre la clase de interés (\"Cambio\") es bajo: solo detecta la mitad de los cambios reales y se equivoca en la mitad de las veces que predice un cambio.\n",
    "\n",
    "Al final del `classification_report` de scikit-learn, aparecen dos líneas adicionales que resumen las métricas globales: `macro avg` y `weighted avg`.\n",
    "\n",
    "\n",
    "**`macro avg`**: Es el promedio simple de las métricas (precisión, recall y F1-score) calculadas para cada clase, *sin considerar el tamaño de las clases*.\n",
    "\n",
    "\n",
    "\n",
    "$$\\text{Macro avg} = \\frac{\\text{Métrica clase 0} + \\text{Métrica clase 1}}{2}$$\n",
    "\n",
    "\n",
    "- Precisión macro:  $\\frac{0.92 + 0.38}{2} = 0.65$\n",
    "\n",
    "\n",
    "**`weighted avg`**:Es el promedio ponderado de cada métrica, en función del número de observaciones (soporte) que tiene cada clase.\n",
    "\n",
    "\n",
    "$$\\text{Weighted avg} = \\frac{\\sum_{i} \\text{métrica}_i \\cdot \\text{soporte}_i}{\\text{total}}$$\n",
    "\n",
    "\n",
    "- Precisión ponderada:  $\\frac{0.92 \\cdot 90 + 0.38 \\cdot 10}{100} = 0.87$\n"
   ]
  },
  {
   "cell_type": "code",
   "execution_count": 22,
   "id": "f2de0fdc",
   "metadata": {},
   "outputs": [
    {
     "data": {
      "text/plain": [
       "0.9444444444444444"
      ]
     },
     "execution_count": 22,
     "metadata": {},
     "output_type": "execute_result"
    }
   ],
   "source": [
    "cm = confusion_matrix(y_true, y_pred, labels=[1, 0])\n",
    "\n",
    "TP = cm[0][0]\n",
    "FN = cm[0][1]\n",
    "FP = cm[1][0]\n",
    "TN = cm[1][1]\n",
    "\n",
    "# Calcular especificidad\n",
    "specificity = TN / (TN + FP)\n",
    "specificity"
   ]
  },
  {
   "cell_type": "markdown",
   "id": "a957b281",
   "metadata": {},
   "source": [
    "El `classification_report` de sklearn no incluye la especificidad (Specificity o True Negative Rate) por defecto. Sin embargo, puedes obtenerla a partir de la matriz de confusión usando la fórmula. El valor obtenido 0.944,es decir, el modelo identificó correctamente el 94.4 % de los predios que realmente `no cambiaron`."
   ]
  },
  {
   "cell_type": "markdown",
   "id": "9b5baf9b",
   "metadata": {},
   "source": [
    "## Curva ROC y AUC\n",
    "\n",
    "### Curva ROC\n",
    "\n",
    "La *curva ROC*(Receiver Operating Characteristic) es una representación gráfica del rendimiento de un modelo de clasificación binaria en distintos **umbrales de decisión**.\n",
    "\n",
    "En lugar de fijar un umbral (por ejemplo, 0.5), la curva ROC evalúa **cómo cambian las tasas de verdaderos y falsos positivos** al variar ese umbral de 0 a 1.\n",
    "\n",
    "---\n",
    "\n",
    "### Ejes de la curva ROC\n",
    "\n",
    "- **Eje X: FPR (False Positive Rate)**  \n",
    "  También conocida como $1 - \\text{Especificidad}$ , esta métrica indica la proporción de negativos reales que fueron incorrectamente clasificados como positivos.\n",
    "\n",
    "  \n",
    "  $$\\text{FPR} = \\frac{FP}{FP + TN}$$\n",
    " \n",
    "\n",
    "- **Eje Y: TPR (True Positive Rate) o Recall o Sensibilidad**  \n",
    "  Esta métrica indica la proporción de positivos reales que fueron correctamente identificados por el modelo.\n",
    "\n",
    "  \n",
    "  $$\\text{TPR} = \\frac{TP}{TP + FN}$$\n",
    "  \n",
    "\n",
    "Cada punto de la curva ROC representa el rendimiento del modelo para un **umbral específico** de decisión.\n",
    "\n"
   ]
  },
  {
   "cell_type": "markdown",
   "id": "9769c06a",
   "metadata": {},
   "source": [
    "####  Ejemplo: Construcción curva ROC\n",
    "\n",
    "Un modelo que evalúa si hubo cambio físico en 5 predios. El modelo no te dice directamente “sí” o “no”, sino que te da una probabilidad de que haya ocurrido un cambio. Pero tú debes decidir a partir de qué punto (umbral) consideras que esa probabilidad significa realmente un cambio. Vamos a usar tres umbrales para ver cómo cambia la decisión ( 0.85, 0.60, 0.30)\n",
    "\n",
    "**Clasificación por umbrales: 0.85, 0.60, 0.30**\n",
    "\n",
    "| Predio | Real | Score | Pred (0.85) | Clase | Pred (0.60) | Clase | Pred (0.30) | Clase |\n",
    "| ------ | ---- | ----- | ----------- | ----- | ----------- | ----- | ----------- | ----- |\n",
    "| A      | 1    | 0.90  | 1           | TP    | 1           | TP    |             |       |\n",
    "| B      | 0    | 0.80  | 0           | TN    | 1           | FP    |             |       |\n",
    "| C      | 1    | 0.65  | 0           | FN    | 1           | TP    |             |       |\n",
    "| D      | 0    | 0.40  | 0           | TN    | 0           | TN    |             |       |\n",
    "| E      | 0    | 0.30  | 0           | TN    | 0           | TN    |             |       |\n"
   ]
  },
  {
   "cell_type": "markdown",
   "id": "5fffb11f",
   "metadata": {},
   "source": [
    "```{admonition}  Actividad \n",
    ":class: important\n",
    "Complete los valores para el  umbral 0.30\n",
    "\n",
    "```"
   ]
  },
  {
   "cell_type": "markdown",
   "id": "c0e01ea4",
   "metadata": {},
   "source": [
    "**Métricas por umbral**\n",
    "\n",
    "\n",
    "| Umbral | TP | FP | TN | FN | TPR (Recall) | FPR (1 - Especificidad) |\n",
    "| ------ | -- | -- | -- | -- | ------------ | ----------------------- |\n",
    "| 0.85   | 1  | 0  | 3  | 1  | 0.50         | 0.00                    |\n",
    "| 0.60   | 2  | 1  | 2  | 0  | 1.00         | 0.33                    |\n",
    "| 0.30   | 2  | 3  | 0  | 0  | 1.00         | 1.00                    |\n",
    "\n",
    "- Con umbral 0.85, el modelo es muy conservador: pocos falsos positivos, pero se le escapan cambios (FN).\n",
    "- Con umbral 0.60 logra un balance entre sensibilidad (1.0) y especificidad (aún aceptable).\n",
    "- Con 0.30, el modelo es agresivo detecta todos los cambios, pero comete muchos falsos positivos.\n",
    "\n"
   ]
  },
  {
   "cell_type": "code",
   "execution_count": 25,
   "id": "4e05d5ea",
   "metadata": {},
   "outputs": [
    {
     "data": {
      "image/png": "[encoded data removed]",
      "text/plain": [
       "<Figure size 600x500 with 1 Axes>"
      ]
     },
     "metadata": {},
     "output_type": "display_data"
    }
   ],
   "source": [
    "import matplotlib.pyplot as plt\n",
    "from sklearn.metrics import roc_curve, auc\n",
    "\n",
    "# Datos reales y scores del modelo\n",
    "y_true = [1, 0, 1, 0, 0]  # Real: 1=cambio, 0=no cambio\n",
    "y_scores = [0.90, 0.80, 0.65, 0.40, 0.30]  # Score del modelo\n",
    "\n",
    "# Calcular FPR, TPR y umbrales\n",
    "fpr, tpr, thresholds = roc_curve(y_true, y_scores)\n",
    "roc_auc = auc(fpr, tpr)\n",
    "\n",
    "# Graficar la curva ROC\n",
    "plt.figure(figsize=(6, 5))\n",
    "plt.plot(fpr, tpr, marker='o', label=f'Curva ROC (AUC = {roc_auc:.2f})')\n",
    "plt.plot([0, 1], [0, 1], 'k--', label='Aleatorio (AUC = 0.5)')\n",
    "plt.xlabel('Tasa de Falsos Positivos (FPR)')\n",
    "plt.ylabel('Tasa de Verdaderos Positivos (TPR - Recall)')\n",
    "plt.title('Curva ROC - Cambio físico de predios')\n",
    "plt.legend(loc='lower right')\n",
    "plt.grid(True)\n",
    "plt.tight_layout()\n",
    "plt.show()\n"
   ]
  },
  {
   "cell_type": "markdown",
   "id": "fe404e3a",
   "metadata": {},
   "source": [
    "<p style=\"text-align: left; font-size: 14px;\"> \n",
    "    <strong> Fig.1. </strong><br>\n",
    "    Curva ROC: Evaluando el Desempeño de un Clasificado\n",
    "</p>\n",
    "\n",
    "```{image} Imagenes/Curva_roc.JPG\n",
    ":width: 500px\n",
    ":align: left\n",
    ":alt: unidad\n",
    "```\n",
    "\n",
    "<div style=\"clear: both;\"></div> <p style=\"text-align: left; font-size: 14px;\"> <strong>Nota.</strong> Fuente propia. </p>\n",
    "\n",
    " Si el modelo es muy bueno, veremos que su curva se aproxima mucho a la esquina superior izquierda. Mientras más se aleje de la diagonal roja."
   ]
  },
  {
   "cell_type": "markdown",
   "id": "4596fa7f",
   "metadata": {},
   "source": [
    "```{admonition} Curva ROC en clasificación multiclase\n",
    ":class: danger\n",
    "La curva ROC fue diseñada para problemas binarios, donde comparamos una clase positiva frente a una negativa.\n",
    "En clasificación multiclase, no se puede aplicar directamente porque no hay una única clase positiva contra otra negativa: hay varias clases al mismo tiempo.\n",
    "\n",
    "- **One-vs-Rest (OvR):** Se calcula una curva ROC por cada clase, tratándola como “positiva” contra todas las demás.\n",
    "\n",
    "```"
   ]
  },
  {
   "cell_type": "markdown",
   "id": "a818a357",
   "metadata": {},
   "source": [
    "### AUC (Area Under the ROC Curve)\n",
    "\n",
    "El AUC representa la probabilidad de que el modelo asigne una mayor probabilidad a la instancia positiva que a la negativa. Siempre toma un valor entre 0 :\n",
    "\n",
    "*  AUC = 1.0 : El modelo es perfecto: siempre pone a los positivos arriba y a los negativos abajo.\n",
    "\n",
    "*  AUC = 0.5 : El modelo no distingue entre clases, como si adivinara al azar.\n",
    "\n",
    "* AUC < 0.5 : El modelo se equivoca más de lo que acierta\n",
    "\n",
    "\n",
    "### AUC promedio (macro o micro) \n",
    "\n",
    "Cuando usamos AUC en clasificación multiclase, podemos obtener un valor resumen del rendimiento del modelo promediando los AUCs de cada clase. Hay dos formas comunes de hacerlo:\n",
    "\n",
    " * **AUC macro:** calcula el AUC de cada clase por separado y luego hace un promedio simple. Así, todas las clases tienen el mismo peso, sin importar   cuántas muestras tengan.\n",
    "  \n",
    "* **AUC micro:** combina todas las predicciones y calcula el AUC considerando todos los verdaderos y falsos positivos juntos. De esta forma, las clases con más datos influyen más en el resultado."
   ]
  },
  {
   "cell_type": "markdown",
   "id": "e2641ca0",
   "metadata": {},
   "source": [
    "\n",
    "## Caso de Estudio: Comparación de Datos de Edificaciones entre el Catastro Colombiano y Google Open Buildings\n",
    "\n",
    "Se busca compara dos fuentes de información sobre construcciones en los municipios de Aipe y Gigante: el catastro oficial y los datos de Google Open Buildings, con el objetivo de evaluar su concordancia y posibles diferencias.\n",
    "Para realizar esta comparación, se generan diversas columnas que agrupan las características en tres categorías principales:\n",
    "\n",
    "* Características de forma: Se analizó la similitud geométrica entre los polígonos de ambas fuentes.\n",
    "\n",
    "* Posición: Se calcularon la distancia entre centroides y la diferencia angular en la orientación de los edificios.\n",
    "\n",
    "* Intersección: Se midió la superposición entre polígonos\n",
    "\n",
    "Además, se incluyó una columna de etiquetas que clasifica los polígonos en tres categorías:\n",
    "\n",
    "* Cambio significativo (0): Polígonos que representan alteraciones sustanciales en comparación con la base catastral.\n",
    "* Cambio moderado (1): Polígonos que presentan modificaciones perceptibles, pero menos drásticas que las de la categoría anterior.\n",
    "* No hay cambio (2): Polígonos que no muestran diferencias relevantes con respecto a los datos base.\n",
    "\n",
    "\n",
    "\n",
    "<p style=\"text-align: left; font-size: 14px;\"> \n",
    "    <strong> Fig.2. </strong><br>\n",
    "    Capas catastrales y GEE\n",
    "</p>\n",
    "\n",
    "```{image} Imagenes/gee.JPG\n",
    ":width: 500px\n",
    ":align: left\n",
    ":alt: unidad\n",
    "```\n",
    "\n",
    "<div style=\"clear: both;\"></div> <p style=\"text-align: left; font-size: 14px;\"> <strong>Nota.</strong> Fuente propia. </p>\n",
    "\n",
    "Ahora que ya entendemos qué es la curva ROC y el AUC, vamos a aplicar estos conceptos retomando el estudio de caso del Módulo 6, donde comparamos los datos de edificaciones del Catastro Colombiano con los del proyecto Google Open Buildings.\n",
    "\n",
    "En este ejercicio, vamos a entrenar un modelo de clasificación, específicamente un Random Forest, haremos en dos escenarios diferentes, primero usando los datos desbalanceados, tal como vienen originalmente, y luego con los datos balanceados."
   ]
  },
  {
   "cell_type": "code",
   "execution_count": 1,
   "id": "34178588",
   "metadata": {},
   "outputs": [],
   "source": [
    "import geopandas as gpd\n",
    "from sklearn.model_selection import train_test_split\n",
    "from sklearn.metrics import accuracy_score, confusion_matrix, classification_report\n",
    "import pandas as pd\n",
    "import numpy as np\n",
    "import os\n",
    "import matplotlib.pyplot as plt"
   ]
  },
  {
   "cell_type": "markdown",
   "id": "a6cfbf14",
   "metadata": {},
   "source": [
    "Cargamos los datos de edificaciones procesadas para los municipios de Gigante y Aipe desde archivos GeoJSON.Luego, combinamos ambos conjuntos en un único GeoDataFrame."
   ]
  },
  {
   "cell_type": "code",
   "execution_count": 2,
   "id": "90ab9ba3",
   "metadata": {},
   "outputs": [],
   "source": [
    "directorio= \"Recursos\"\n",
    "archivos=['20241114_GIGANTE_building_procesado2_label.geojson',\n",
    " '20241214_AIPE_building_procesado2_label.geojson']"
   ]
  },
  {
   "cell_type": "code",
   "execution_count": 3,
   "id": "35d1a63a",
   "metadata": {},
   "outputs": [],
   "source": [
    "gdfs=[]\n",
    "for geojson in archivos:\n",
    "    ruta = os.path.join(directorio, geojson)\n",
    "    gdf = gpd.read_file(  ruta)\n",
    "    gdfs.append(gdf)\n",
    "\n",
    "gdf_concat=gpd.GeoDataFrame(pd.concat(gdfs, ignore_index=True))"
   ]
  },
  {
   "cell_type": "code",
   "execution_count": 30,
   "id": "59300db8",
   "metadata": {},
   "outputs": [
    {
     "data": {
      "text/html": [
       "<div>\n",
       "<style scoped>\n",
       "    .dataframe tbody tr th:only-of-type {\n",
       "        vertical-align: middle;\n",
       "    }\n",
       "\n",
       "    .dataframe tbody tr th {\n",
       "        vertical-align: top;\n",
       "    }\n",
       "\n",
       "    .dataframe thead th {\n",
       "        text-align: right;\n",
       "    }\n",
       "</style>\n",
       "<table border=\"1\" class=\"dataframe\">\n",
       "  <thead>\n",
       "    <tr style=\"text-align: right;\">\n",
       "      <th></th>\n",
       "      <th>id</th>\n",
       "      <th>UOI_max</th>\n",
       "      <th>Hausdorff_Distance</th>\n",
       "      <th>neighbors_count</th>\n",
       "      <th>Centroid_Distance</th>\n",
       "      <th>google_mbr_angle_deg</th>\n",
       "      <th>google_mbr_direction</th>\n",
       "      <th>catastro_mbr_angle_deg</th>\n",
       "      <th>catastro_mbr_direction</th>\n",
       "      <th>google_custom_angle_deg</th>\n",
       "      <th>...</th>\n",
       "      <th>google_centroid_y</th>\n",
       "      <th>catastro_centroid_x</th>\n",
       "      <th>catastro_centroid_y</th>\n",
       "      <th>hausdorff_to_combined</th>\n",
       "      <th>intersections</th>\n",
       "      <th>intersected_area</th>\n",
       "      <th>area_in_meters</th>\n",
       "      <th>perimeter</th>\n",
       "      <th>LABEL_FINAL</th>\n",
       "      <th>geometry</th>\n",
       "    </tr>\n",
       "  </thead>\n",
       "  <tbody>\n",
       "    <tr>\n",
       "      <th>0</th>\n",
       "      <td>413061</td>\n",
       "      <td>0.000000</td>\n",
       "      <td>1003.000000</td>\n",
       "      <td>0</td>\n",
       "      <td>-1.000000</td>\n",
       "      <td>NaN</td>\n",
       "      <td>None</td>\n",
       "      <td>NaN</td>\n",
       "      <td>None</td>\n",
       "      <td>NaN</td>\n",
       "      <td>...</td>\n",
       "      <td>1.832932e+06</td>\n",
       "      <td>0.000000e+00</td>\n",
       "      <td>0.000000e+00</td>\n",
       "      <td>-1.000000</td>\n",
       "      <td>NaN</td>\n",
       "      <td>0.000000</td>\n",
       "      <td>23.344865</td>\n",
       "      <td>19.388882</td>\n",
       "      <td>0</td>\n",
       "      <td>POLYGON ((4714505.149 1832935.353, 4714508.722...</td>\n",
       "    </tr>\n",
       "    <tr>\n",
       "      <th>1</th>\n",
       "      <td>413062</td>\n",
       "      <td>0.336396</td>\n",
       "      <td>5.244896</td>\n",
       "      <td>3</td>\n",
       "      <td>3.117759</td>\n",
       "      <td>150.803488</td>\n",
       "      <td>right</td>\n",
       "      <td>144.508134</td>\n",
       "      <td>right</td>\n",
       "      <td>59.653707</td>\n",
       "      <td>...</td>\n",
       "      <td>1.833855e+06</td>\n",
       "      <td>4.716547e+06</td>\n",
       "      <td>1.833852e+06</td>\n",
       "      <td>4.313561</td>\n",
       "      <td>2.0</td>\n",
       "      <td>164.326415</td>\n",
       "      <td>222.473820</td>\n",
       "      <td>60.211632</td>\n",
       "      <td>2</td>\n",
       "      <td>POLYGON ((4716542.982 1833864.368, 4716557.884...</td>\n",
       "    </tr>\n",
       "    <tr>\n",
       "      <th>2</th>\n",
       "      <td>413063</td>\n",
       "      <td>0.000000</td>\n",
       "      <td>1003.000000</td>\n",
       "      <td>0</td>\n",
       "      <td>-1.000000</td>\n",
       "      <td>NaN</td>\n",
       "      <td>None</td>\n",
       "      <td>NaN</td>\n",
       "      <td>None</td>\n",
       "      <td>NaN</td>\n",
       "      <td>...</td>\n",
       "      <td>1.834906e+06</td>\n",
       "      <td>0.000000e+00</td>\n",
       "      <td>0.000000e+00</td>\n",
       "      <td>-1.000000</td>\n",
       "      <td>NaN</td>\n",
       "      <td>0.000000</td>\n",
       "      <td>62.778679</td>\n",
       "      <td>31.967788</td>\n",
       "      <td>0</td>\n",
       "      <td>POLYGON ((4717560.603 1834902.042, 4717554.037...</td>\n",
       "    </tr>\n",
       "    <tr>\n",
       "      <th>3</th>\n",
       "      <td>413064</td>\n",
       "      <td>0.000000</td>\n",
       "      <td>1003.000000</td>\n",
       "      <td>0</td>\n",
       "      <td>-1.000000</td>\n",
       "      <td>NaN</td>\n",
       "      <td>None</td>\n",
       "      <td>NaN</td>\n",
       "      <td>None</td>\n",
       "      <td>NaN</td>\n",
       "      <td>...</td>\n",
       "      <td>1.833813e+06</td>\n",
       "      <td>0.000000e+00</td>\n",
       "      <td>0.000000e+00</td>\n",
       "      <td>-1.000000</td>\n",
       "      <td>NaN</td>\n",
       "      <td>0.000000</td>\n",
       "      <td>16.268728</td>\n",
       "      <td>16.177043</td>\n",
       "      <td>0</td>\n",
       "      <td>POLYGON ((4721909.092 1833815.542, 4721910.277...</td>\n",
       "    </tr>\n",
       "    <tr>\n",
       "      <th>4</th>\n",
       "      <td>413065</td>\n",
       "      <td>0.343717</td>\n",
       "      <td>15.427753</td>\n",
       "      <td>1</td>\n",
       "      <td>5.366902</td>\n",
       "      <td>178.111779</td>\n",
       "      <td>right</td>\n",
       "      <td>87.862900</td>\n",
       "      <td>right</td>\n",
       "      <td>63.170795</td>\n",
       "      <td>...</td>\n",
       "      <td>1.830154e+06</td>\n",
       "      <td>4.714821e+06</td>\n",
       "      <td>1.830152e+06</td>\n",
       "      <td>15.427753</td>\n",
       "      <td>1.0</td>\n",
       "      <td>199.543511</td>\n",
       "      <td>245.481629</td>\n",
       "      <td>80.380421</td>\n",
       "      <td>2</td>\n",
       "      <td>POLYGON ((4714826.198 1830161.255, 4714826.177...</td>\n",
       "    </tr>\n",
       "  </tbody>\n",
       "</table>\n",
       "<p>5 rows × 33 columns</p>\n",
       "</div>"
      ],
      "text/plain": [
       "       id   UOI_max  Hausdorff_Distance  neighbors_count  Centroid_Distance  \\\n",
       "0  413061  0.000000         1003.000000                0          -1.000000   \n",
       "1  413062  0.336396            5.244896                3           3.117759   \n",
       "2  413063  0.000000         1003.000000                0          -1.000000   \n",
       "3  413064  0.000000         1003.000000                0          -1.000000   \n",
       "4  413065  0.343717           15.427753                1           5.366902   \n",
       "\n",
       "   google_mbr_angle_deg google_mbr_direction  catastro_mbr_angle_deg  \\\n",
       "0                   NaN                 None                     NaN   \n",
       "1            150.803488                right              144.508134   \n",
       "2                   NaN                 None                     NaN   \n",
       "3                   NaN                 None                     NaN   \n",
       "4            178.111779                right               87.862900   \n",
       "\n",
       "  catastro_mbr_direction  google_custom_angle_deg  ... google_centroid_y  \\\n",
       "0                   None                      NaN  ...      1.832932e+06   \n",
       "1                  right                59.653707  ...      1.833855e+06   \n",
       "2                   None                      NaN  ...      1.834906e+06   \n",
       "3                   None                      NaN  ...      1.833813e+06   \n",
       "4                  right                63.170795  ...      1.830154e+06   \n",
       "\n",
       "   catastro_centroid_x catastro_centroid_y  hausdorff_to_combined  \\\n",
       "0         0.000000e+00        0.000000e+00              -1.000000   \n",
       "1         4.716547e+06        1.833852e+06               4.313561   \n",
       "2         0.000000e+00        0.000000e+00              -1.000000   \n",
       "3         0.000000e+00        0.000000e+00              -1.000000   \n",
       "4         4.714821e+06        1.830152e+06              15.427753   \n",
       "\n",
       "   intersections  intersected_area  area_in_meters  perimeter  LABEL_FINAL  \\\n",
       "0            NaN          0.000000       23.344865  19.388882            0   \n",
       "1            2.0        164.326415      222.473820  60.211632            2   \n",
       "2            NaN          0.000000       62.778679  31.967788            0   \n",
       "3            NaN          0.000000       16.268728  16.177043            0   \n",
       "4            1.0        199.543511      245.481629  80.380421            2   \n",
       "\n",
       "                                            geometry  \n",
       "0  POLYGON ((4714505.149 1832935.353, 4714508.722...  \n",
       "1  POLYGON ((4716542.982 1833864.368, 4716557.884...  \n",
       "2  POLYGON ((4717560.603 1834902.042, 4717554.037...  \n",
       "3  POLYGON ((4721909.092 1833815.542, 4721910.277...  \n",
       "4  POLYGON ((4714826.198 1830161.255, 4714826.177...  \n",
       "\n",
       "[5 rows x 33 columns]"
      ]
     },
     "execution_count": 30,
     "metadata": {},
     "output_type": "execute_result"
    }
   ],
   "source": [
    "gdf_concat.head()"
   ]
  },
  {
   "cell_type": "code",
   "execution_count": 4,
   "id": "d924c69b",
   "metadata": {},
   "outputs": [
    {
     "data": {
      "text/plain": [
       "Index(['id', 'UOI_max', 'Hausdorff_Distance', 'neighbors_count',\n",
       "       'Centroid_Distance', 'google_mbr_angle_deg', 'google_mbr_direction',\n",
       "       'catastro_mbr_angle_deg', 'catastro_mbr_direction',\n",
       "       'google_custom_angle_deg', 'google_custom_direction',\n",
       "       'catastro_custom_angle_deg', 'catastro_custom_direction',\n",
       "       'adjusted_catastro_mbr_angle', 'angle_difference',\n",
       "       'custom_angle_difference', 'num_intersections', 'combined_area',\n",
       "       'combined_area_intersections', 'combined_UOI', 'union_area',\n",
       "       'google_area_minus_inters', 'google_centroid_x', 'google_centroid_y',\n",
       "       'catastro_centroid_x', 'catastro_centroid_y', 'hausdorff_to_combined',\n",
       "       'intersections', 'intersected_area', 'area_in_meters', 'perimeter',\n",
       "       'LABEL_FINAL', 'geometry'],\n",
       "      dtype='object')"
      ]
     },
     "execution_count": 4,
     "metadata": {},
     "output_type": "execute_result"
    }
   ],
   "source": [
    "gdf_concat.columns"
   ]
  },
  {
   "cell_type": "markdown",
   "id": "e0b7a271",
   "metadata": {},
   "source": [
    "Se exploran varias columnas que nos permiten comparar las edificaciones de Google Open Buildings con el catastro. Algunas  son:\n",
    "\n",
    "`Hausdorff_Distance`: Mide la mayor distancia entre los bordes de un polígono de Google y su par más cercano en catastro. Un valor alto sugiere diferencias significativas en forma.\n",
    "\n",
    "`Centroid_Distance`: Indica qué tan alejados están los centroides de los edificios en ambas fuentes. \n",
    "\n",
    "`num_intersections`: Cuenta cuántas intersecciones existen entre los polígonos. \n",
    "\n",
    "`combined_UOI` (Unión sobre Intersección combinada): Relación entre el área superpuesta y la unión total de ambos polígonos. \n",
    "\n",
    "`LABEL_FINAL`: Clasifica los cambios en tres niveles (0: cambio significativo, 1: cambio moderado, 2: sin cambio)."
   ]
  },
  {
   "cell_type": "code",
   "execution_count": 5,
   "id": "f2a925e0",
   "metadata": {},
   "outputs": [
    {
     "name": "stdout",
     "output_type": "stream",
     "text": [
      "<class 'geopandas.geodataframe.GeoDataFrame'>\n",
      "RangeIndex: 20977 entries, 0 to 20976\n",
      "Data columns (total 33 columns):\n",
      " #   Column                       Non-Null Count  Dtype   \n",
      "---  ------                       --------------  -----   \n",
      " 0   id                           20977 non-null  object  \n",
      " 1   UOI_max                      20977 non-null  float64 \n",
      " 2   Hausdorff_Distance           20977 non-null  float64 \n",
      " 3   neighbors_count              20977 non-null  int64   \n",
      " 4   Centroid_Distance            20977 non-null  float64 \n",
      " 5   google_mbr_angle_deg         13521 non-null  float64 \n",
      " 6   google_mbr_direction         13521 non-null  object  \n",
      " 7   catastro_mbr_angle_deg       13521 non-null  float64 \n",
      " 8   catastro_mbr_direction       13521 non-null  object  \n",
      " 9   google_custom_angle_deg      13354 non-null  float64 \n",
      " 10  google_custom_direction      13521 non-null  object  \n",
      " 11  catastro_custom_angle_deg    13333 non-null  float64 \n",
      " 12  catastro_custom_direction    13521 non-null  object  \n",
      " 13  adjusted_catastro_mbr_angle  13521 non-null  float64 \n",
      " 14  angle_difference             13521 non-null  float64 \n",
      " 15  custom_angle_difference      13176 non-null  float64 \n",
      " 16  num_intersections            20977 non-null  int64   \n",
      " 17  combined_area                20977 non-null  float64 \n",
      " 18  combined_area_intersections  20977 non-null  float64 \n",
      " 19  combined_UOI                 20977 non-null  float64 \n",
      " 20  union_area                   20977 non-null  float64 \n",
      " 21  google_area_minus_inters     20977 non-null  float64 \n",
      " 22  google_centroid_x            20977 non-null  float64 \n",
      " 23  google_centroid_y            20977 non-null  float64 \n",
      " 24  catastro_centroid_x          20977 non-null  float64 \n",
      " 25  catastro_centroid_y          20977 non-null  float64 \n",
      " 26  hausdorff_to_combined        20977 non-null  float64 \n",
      " 27  intersections                12799 non-null  float64 \n",
      " 28  intersected_area             20977 non-null  float64 \n",
      " 29  area_in_meters               20977 non-null  float64 \n",
      " 30  perimeter                    20977 non-null  float64 \n",
      " 31  LABEL_FINAL                  20977 non-null  int64   \n",
      " 32  geometry                     20977 non-null  geometry\n",
      "dtypes: float64(24), geometry(1), int64(3), object(5)\n",
      "memory usage: 5.3+ MB\n"
     ]
    }
   ],
   "source": [
    "gdf_concat.info()"
   ]
  },
  {
   "cell_type": "markdown",
   "id": "d1c7fbe1",
   "metadata": {},
   "source": [
    "El dataset consolidado `gdf_concat` contiene 20,977 registros y 33 característica"
   ]
  },
  {
   "cell_type": "code",
   "execution_count": 31,
   "id": "b400005f",
   "metadata": {},
   "outputs": [
    {
     "data": {
      "text/plain": [
       "(20977, 33)"
      ]
     },
     "execution_count": 31,
     "metadata": {},
     "output_type": "execute_result"
    }
   ],
   "source": [
    "gdf_concat.shape"
   ]
  },
  {
   "cell_type": "code",
   "execution_count": 6,
   "id": "978640af",
   "metadata": {},
   "outputs": [
    {
     "data": {
      "text/html": [
       "<div>\n",
       "<style scoped>\n",
       "    .dataframe tbody tr th:only-of-type {\n",
       "        vertical-align: middle;\n",
       "    }\n",
       "\n",
       "    .dataframe tbody tr th {\n",
       "        vertical-align: top;\n",
       "    }\n",
       "\n",
       "    .dataframe thead th {\n",
       "        text-align: right;\n",
       "    }\n",
       "</style>\n",
       "<table border=\"1\" class=\"dataframe\">\n",
       "  <thead>\n",
       "    <tr style=\"text-align: right;\">\n",
       "      <th></th>\n",
       "      <th>id</th>\n",
       "      <th>UOI_max</th>\n",
       "      <th>Hausdorff_Distance</th>\n",
       "      <th>neighbors_count</th>\n",
       "      <th>Centroid_Distance</th>\n",
       "      <th>google_mbr_angle_deg</th>\n",
       "      <th>google_mbr_direction</th>\n",
       "      <th>catastro_mbr_angle_deg</th>\n",
       "      <th>catastro_mbr_direction</th>\n",
       "      <th>google_custom_angle_deg</th>\n",
       "      <th>...</th>\n",
       "      <th>google_centroid_y</th>\n",
       "      <th>catastro_centroid_x</th>\n",
       "      <th>catastro_centroid_y</th>\n",
       "      <th>hausdorff_to_combined</th>\n",
       "      <th>intersections</th>\n",
       "      <th>intersected_area</th>\n",
       "      <th>area_in_meters</th>\n",
       "      <th>perimeter</th>\n",
       "      <th>LABEL_FINAL</th>\n",
       "      <th>geometry</th>\n",
       "    </tr>\n",
       "  </thead>\n",
       "  <tbody>\n",
       "  </tbody>\n",
       "</table>\n",
       "<p>0 rows × 33 columns</p>\n",
       "</div>"
      ],
      "text/plain": [
       "Empty GeoDataFrame\n",
       "Columns: [id, UOI_max, Hausdorff_Distance, neighbors_count, Centroid_Distance, google_mbr_angle_deg, google_mbr_direction, catastro_mbr_angle_deg, catastro_mbr_direction, google_custom_angle_deg, google_custom_direction, catastro_custom_angle_deg, catastro_custom_direction, adjusted_catastro_mbr_angle, angle_difference, custom_angle_difference, num_intersections, combined_area, combined_area_intersections, combined_UOI, union_area, google_area_minus_inters, google_centroid_x, google_centroid_y, catastro_centroid_x, catastro_centroid_y, hausdorff_to_combined, intersections, intersected_area, area_in_meters, perimeter, LABEL_FINAL, geometry]\n",
       "Index: []\n",
       "\n",
       "[0 rows x 33 columns]"
      ]
     },
     "execution_count": 6,
     "metadata": {},
     "output_type": "execute_result"
    }
   ],
   "source": [
    "gdf_concat[gdf_concat['LABEL_FINAL'].isna()]"
   ]
  },
  {
   "cell_type": "code",
   "execution_count": 7,
   "id": "f8d2bdbb",
   "metadata": {},
   "outputs": [
    {
     "data": {
      "text/plain": [
       "LABEL_FINAL\n",
       "2    10872\n",
       "0     8367\n",
       "1     1738\n",
       "Name: count, dtype: int64"
      ]
     },
     "execution_count": 7,
     "metadata": {},
     "output_type": "execute_result"
    }
   ],
   "source": [
    "gdf_concat['LABEL_FINAL'].value_counts()"
   ]
  },
  {
   "cell_type": "markdown",
   "id": "aced39ef",
   "metadata": {},
   "source": [
    "**División del conjunto de datos **"
   ]
  },
  {
   "cell_type": "code",
   "execution_count": 8,
   "id": "2c3512b7",
   "metadata": {},
   "outputs": [],
   "source": [
    " #Variables predictoras,variable de respuesta y id\n",
    "X = gdf_concat.drop(columns=['LABEL_FINAL', 'id', 'geometry'])\n",
    "y = gdf_concat['LABEL_FINAL'].astype(int)\n",
    "\n",
    "# Dividir en entrenamiento y prueba\n",
    "X_train, X_test, y_train, y_test, ids_train, ids_test, geometries_train, geometries_test = train_test_split(\n",
    "X, y, gdf_concat['id'], gdf_concat['geometry'], test_size=0.2, random_state=42)"
   ]
  },
  {
   "cell_type": "code",
   "execution_count": 9,
   "id": "6e77d4a2",
   "metadata": {},
   "outputs": [
    {
     "name": "stdout",
     "output_type": "stream",
     "text": [
      "Conjunto de datos (20977, 33)\n",
      "Variales predictorias (16781, 30) (4196, 30)\n",
      "Variable respuesta (16781,) (4196,)\n",
      "Id (16781,) (4196,)\n",
      "Geométria (16781,) (4196,)\n"
     ]
    }
   ],
   "source": [
    "print(\"Conjunto de datos\",gdf_concat.shape)\n",
    "print(\"Variales predictorias\",X_train.shape,X_test.shape)\n",
    "print(\"Variable respuesta\",y_train.shape,y_test.shape)\n",
    "print(\"Id\",ids_train.shape,ids_test.shape)\n",
    "print(\"Geométria\",geometries_train.shape,geometries_test.shape)"
   ]
  },
  {
   "cell_type": "markdown",
   "id": "3a195cba",
   "metadata": {},
   "source": [
    "Se convierten las columnas categóricas a valores numéricos usando `LabelEncoder` y aplica `astype(str) `para evitar errores con valores NaN o formatos inconsistentes."
   ]
  },
  {
   "cell_type": "code",
   "execution_count": 10,
   "id": "808d3ed9",
   "metadata": {},
   "outputs": [],
   "source": [
    "from sklearn.preprocessing import LabelEncoder\n",
    "\n",
    "columnas_categoricas = [ 'google_mbr_direction', 'catastro_mbr_direction', 'google_custom_direction', 'catastro_custom_direction']\n",
    "\n",
    "label_encoders = {}\n",
    "for columna in columnas_categoricas:\n",
    "    if columna in X_train.columns:\n",
    "        le = LabelEncoder()\n",
    "        X_train[columna] = le.fit_transform(X_train[columna].astype(str))  \n",
    "        X_test[columna] = le.transform(X_test[columna].astype(str))\n",
    "        label_encoders[columna] = le  "
   ]
  },
  {
   "cell_type": "markdown",
   "id": "0c29b582",
   "metadata": {},
   "source": [
    "**Entrenamiento RandomForest**\n",
    "Se implementa un modelo Random Forest, un número de 100 árboles (`n_estimators=100`) y una profundidad máxima de 10 (`max_depth=10`)"
   ]
  },
  {
   "cell_type": "code",
   "execution_count": 11,
   "id": "91e7ccb7",
   "metadata": {},
   "outputs": [],
   "source": [
    "from sklearn.ensemble import RandomForestClassifier\n",
    "\n",
    "clf_rf = RandomForestClassifier(n_estimators=100, max_depth=10, random_state=42)  \n",
    "clf_rf.fit(X_train, y_train)\n",
    "\n",
    "\n",
    "y_pred = clf_rf.predict(X_test)"
   ]
  },
  {
   "cell_type": "code",
   "execution_count": 12,
   "id": "be7d1dda",
   "metadata": {},
   "outputs": [],
   "source": [
    "from sklearn.preprocessing import label_binarize\n",
    "from sklearn.metrics import roc_curve, auc\n",
    "import matplotlib.pyplot as plt\n",
    "import numpy as np"
   ]
  },
  {
   "cell_type": "code",
   "execution_count": 13,
   "id": "2682b43a",
   "metadata": {},
   "outputs": [
    {
     "data": {
      "image/png": "[encoded data removed]",
      "text/plain": [
       "<Figure size 640x480 with 1 Axes>"
      ]
     },
     "metadata": {},
     "output_type": "display_data"
    }
   ],
   "source": [
    "\n",
    "\n",
    "# Binarizar las clases (por ejemplo, para 3 clases: 0, 1, 2)\n",
    "classes = np.unique(y_test)\n",
    "y_test_bin = label_binarize(y_test, classes=classes)\n",
    "y_scores = clf_rf.predict_proba(X_test)\n",
    "\n",
    "# Calcular ROC y AUC por clase\n",
    "for i in range(len(classes)):\n",
    "    fpr, tpr, _ = roc_curve(y_test_bin[:, i], y_scores[:, i])\n",
    "    roc_auc = auc(fpr, tpr)\n",
    "    \n",
    "    plt.plot(fpr, tpr, label=f\"Clase {classes[i]} (AUC = {roc_auc:.2f})\")\n",
    "\n",
    "# Gráfico general\n",
    "plt.plot([0, 1], [0, 1], 'k--', label='Modelo aleatorio (AUC = 0.5)')\n",
    "plt.xlabel(\"Tasa de Falsos Positivos (FPR)\")\n",
    "plt.ylabel(\"Tasa de Verdaderos Positivos (TPR)\")\n",
    "plt.title(\"Curva ROC por clase - Random Forest\")\n",
    "plt.legend(loc=\"lower right\")\n",
    "plt.grid(True)\n",
    "plt.show()"
   ]
  },
  {
   "cell_type": "code",
   "execution_count": 14,
   "id": "fd658cc0",
   "metadata": {},
   "outputs": [
    {
     "name": "stdout",
     "output_type": "stream",
     "text": [
      "AUC macro-promedio: 0.98\n",
      "AUC micro-promedio: 0.99\n"
     ]
    }
   ],
   "source": [
    "from sklearn.metrics import roc_auc_score\n",
    "\n",
    "# AUC macro-promedio (todas las clases pesan igual)\n",
    "auc_macro = roc_auc_score(y_test_bin, y_scores, average='macro', multi_class='ovr')\n",
    "\n",
    "# AUC micro-promedio (las clases frecuentes pesan más)\n",
    "auc_micro = roc_auc_score(y_test_bin, y_scores, average='micro', multi_class='ovr')\n",
    "\n",
    "print(f\"AUC macro-promedio: {auc_macro:.2f}\")\n",
    "print(f\"AUC micro-promedio: {auc_micro:.2f}\")"
   ]
  },
  {
   "cell_type": "markdown",
   "id": "38f3e7cd",
   "metadata": {},
   "source": [
    "```{admonition} Actividad: Evaluación de un modelo \n",
    ":class: important\n",
    "\n",
    "1. Utilizando el modelo previamente entrenado sobre los datos originales, calcula las métricas vistas.\n",
    "\n",
    "2.Entrena nuevamente el modelo, esta vez incluyendo class_weight='balanced' para que el algoritmo compense automáticamente el desbalance entre clases.\n",
    "\n",
    "3.Compara y analiza ambas versiones del modelo. qué métricas mejoran?\n",
    "\n",
    "```"
   ]
  },
  {
   "cell_type": "code",
   "execution_count": null,
   "id": "8e7cfc2b",
   "metadata": {},
   "outputs": [],
   "source": [
    "clf_rf_bl = RandomForestClassifier(n_estimators=100, max_depth=10, random_state=42,class_weight=\"balanced\")  \n",
    "clf_rf_bl.fit(X_train, y_train)\n"
   ]
  },
  {
   "cell_type": "markdown",
   "id": "58620bad",
   "metadata": {},
   "source": [
    "## Referencias \n",
    "\n",
    "* Madrigal, M. (2024, agosto 1). *Demystifying ROC curves: Understanding performance metrics for AI classification models*. RidgeRun. https://www.ridgerun.ai/post/demystifying-roc-curves-understanding-performance-metrics-for-ai-classification-models\n",
    "  \n",
    "* Pachori, S. (2014, noviembre). *It's an exploratory report on data mining models and evaluation techniques*. https://doi.org/10.13140/2.1.1770.9760\n",
    "\n",
    "* Miller, C., Portlock, T., Nyaga, D. M., & O’Sullivan, J. M. (2024). *A review of model evaluation metrics for machine learning in genetics and genomics*. *Frontiers in Bioinformatics, 4*. https://doi.org/10.3389/fbinf.2024.1457619\n",
    "\n",
    "* Navarro, S. (2024, abril 16). *Métricas en clasificación: algunas generalidades*. KeepCoding. https://keepcoding.io/blog/metricas-en-clasificacion-generalidades/\n",
    "\n",
    "\n"
   ]
  }
 ],
 "metadata": {
  "kernelspec": {
   "display_name": "igac_cf",
   "language": "python",
   "name": "python3"
  },
  "language_info": {
   "codemirror_mode": {
    "name": "ipython",
    "version": 3
   },
   "file_extension": ".py",
   "mimetype": "text/x-python",
   "name": "python",
   "nbconvert_exporter": "python",
   "pygments_lexer": "ipython3",
   "version": "3.11.8"
  }
 },
 "nbformat": 4,
 "nbformat_minor": 5
}
