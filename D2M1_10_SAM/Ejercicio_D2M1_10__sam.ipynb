{
  "cells": [
    {
      "cell_type": "markdown",
      "id": "3360de69",
      "metadata": {
        "id": "3360de69"
      },
      "source": [
        "# Ejercicio SAM"
      ]
    },
    {
      "cell_type": "markdown",
      "id": "126028b9",
      "metadata": {
        "id": "126028b9"
      },
      "source": [
        "## Ejercicio: Segmentación Geoespacial con Samgeo en el Municipio de Tabio\n",
        "\n",
        "Aplica segmentación automática sobre una imagen satelital georreferenciada del municipio de Tabio usando la herramienta Samgeo. Ajusta los parámetros del modelo SAM2"
      ]
    },
    {
      "cell_type": "code",
      "source": [
        "import zipfile\n",
        "import os"
      ],
      "metadata": {
        "id": "NXcQc8uc6-XU"
      },
      "id": "NXcQc8uc6-XU",
      "execution_count": 1,
      "outputs": []
    },
    {
      "cell_type": "code",
      "source": [
        "%%capture\n",
        "!wget https://github.com/Luisafrodriguezo1/Diplomado_PDI/raw/refs/heads/main/D2M1_10_SAM/Clip_tabio.zip"
      ],
      "metadata": {
        "id": "Lo0BLniO7Gfg"
      },
      "id": "Lo0BLniO7Gfg",
      "execution_count": 2,
      "outputs": []
    },
    {
      "cell_type": "code",
      "source": [
        "zip_path = \"/content/Clip_tabio.zip\"\n",
        "extract_folder = \"Clip_tabio\"\n",
        "with zipfile.ZipFile(zip_path, 'r') as zip_ref:\n",
        "    zip_ref.extractall(extract_folder)"
      ],
      "metadata": {
        "id": "AdXpH5vi7Wh1"
      },
      "id": "AdXpH5vi7Wh1",
      "execution_count": 3,
      "outputs": []
    },
    {
      "cell_type": "code",
      "source": [
        "tabio_raster_path = \"/content/Clip_tabio/Clip_tabio.tif\""
      ],
      "metadata": {
        "id": "N2L9o5rN7mOT"
      },
      "id": "N2L9o5rN7mOT",
      "execution_count": 4,
      "outputs": []
    },
    {
      "cell_type": "markdown",
      "id": "f1b8c309",
      "metadata": {
        "id": "f1b8c309"
      },
      "source": [
        "1. Instala el paquete llamado segment-geospatial\n"
      ]
    },
    {
      "cell_type": "code",
      "execution_count": null,
      "id": "c7922837",
      "metadata": {
        "id": "c7922837"
      },
      "outputs": [],
      "source": [
        "pip install segment-geospatial --no-build-isolation"
      ]
    },
    {
      "cell_type": "markdown",
      "id": "4433d28e",
      "metadata": {
        "id": "4433d28e"
      },
      "source": [
        "2. Carga las librerias necesarias para el ejercicio."
      ]
    },
    {
      "cell_type": "code",
      "execution_count": null,
      "id": "3_hEp4AM84dX",
      "metadata": {
        "id": "3_hEp4AM84dX"
      },
      "outputs": [],
      "source": [
        "import rasterio\n",
        "from samgeo import SamGeo2\n",
        "from samgeo import SamGeo, tms_to_geotiff, get_basemaps\n",
        "import numpy as np\n",
        "import matplotlib.pyplot as plt\n",
        "from rasterio.plot import show\n",
        "import geopandas as gpd"
      ]
    },
    {
      "cell_type": "markdown",
      "id": "49334004",
      "metadata": {
        "id": "49334004"
      },
      "source": [
        "3. Visualiza la ortoimagen de Tabio y muestra los datos generales del ráster (dimensiones, resolución espacial, número de bandas y sistema de referencia espacial)."
      ]
    },
    {
      "cell_type": "markdown",
      "id": "769ca3af",
      "metadata": {
        "id": "769ca3af"
      },
      "source": [
        "4. Carga el modelo **SAMv2** con los siguientes parámetros:\n",
        "\n",
        "```python\n",
        "sam2_prueba1 = SamGeo2(\n",
        "    model_id=\"sam2-hiera-large\",\n",
        "    automatic=True,\n",
        "    points_per_side=128,\n",
        "    pred_iou_thresh=0.8,\n",
        "    stability_score_thresh=0.8,\n",
        ")\n",
        "```\n",
        "Luego, crea una segunda instancia sam2_prueba2, cambiando el parámetro points_per_side por un valor menor a 128 y observa las diferencias en la segmentación.\n"
      ]
    },
    {
      "cell_type": "code",
      "execution_count": null,
      "id": "4646ca18",
      "metadata": {
        "id": "4646ca18"
      },
      "outputs": [],
      "source": [
        "#"
      ]
    },
    {
      "cell_type": "markdown",
      "id": "a0fcae31",
      "metadata": {
        "id": "a0fcae31"
      },
      "source": [
        "5. Ejecuta la segmentación `sam2_pruebax.generate()` con ambos modelos sobre la ortoimagen cargada."
      ]
    },
    {
      "cell_type": "code",
      "execution_count": null,
      "id": "e8765b04",
      "metadata": {
        "id": "e8765b04"
      },
      "outputs": [],
      "source": [
        "#"
      ]
    },
    {
      "cell_type": "markdown",
      "id": "f2979cdb",
      "metadata": {
        "id": "f2979cdb"
      },
      "source": [
        "6. Guarda las máscaras segmentadas generadas por el modelo en un archivo ráster."
      ]
    },
    {
      "cell_type": "code",
      "execution_count": null,
      "id": "833fd00f",
      "metadata": {
        "id": "833fd00f"
      },
      "outputs": [],
      "source": [
        "#"
      ]
    },
    {
      "cell_type": "markdown",
      "id": "355e2f59",
      "metadata": {
        "id": "355e2f59"
      },
      "source": [
        "7. Convierte un archivo ráster de máscaras segmentadas en un archivo vectorial"
      ]
    },
    {
      "cell_type": "code",
      "execution_count": null,
      "id": "83ae828b",
      "metadata": {
        "id": "83ae828b"
      },
      "outputs": [],
      "source": [
        "#"
      ]
    },
    {
      "cell_type": "markdown",
      "id": "93e61cb2",
      "metadata": {
        "id": "93e61cb2"
      },
      "source": [
        "\n",
        "8. Grafica los resultados obtenidos."
      ]
    },
    {
      "cell_type": "code",
      "execution_count": null,
      "id": "affb21e5",
      "metadata": {
        "id": "affb21e5"
      },
      "outputs": [],
      "source": [
        "#"
      ]
    },
    {
      "cell_type": "markdown",
      "id": "5a207125",
      "metadata": {
        "id": "5a207125"
      },
      "source": [
        "\n",
        "9. Responde las siguientes preguntas:\n",
        "    \n",
        "- ¿Qué diferencias observas entre los resultados de `sam2_prueba1` y `sam2_prueba2`?\n",
        "- ¿Cómo afecta el parámetro `points_per_side` a la calidad y nivel de detalle de la segmentación?\n",
        "- ¿Las regiones segmentadas son coherentes con los objetos reales visibles en la ortoimagen?\n",
        "- ¿Qué ventajas ofrece el uso de SAM en comparación con métodos tradicionales de segmentación geoespacial?\n",
        "- ¿Qué limitaciones encontraste al trabajar con imágenes satelitales reales y segmentación automática?\n",
        "\n",
        "\n",
        "\n"
      ]
    }
  ],
  "metadata": {
    "colab": {
      "provenance": []
    },
    "language_info": {
      "name": "python"
    },
    "kernelspec": {
      "name": "python3",
      "display_name": "Python 3"
    }
  },
  "nbformat": 4,
  "nbformat_minor": 5
}